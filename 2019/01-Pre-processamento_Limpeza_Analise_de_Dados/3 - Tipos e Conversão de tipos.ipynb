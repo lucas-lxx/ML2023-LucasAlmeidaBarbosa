{
  "cells": [
    {
      "cell_type": "markdown",
      "metadata": {
        "id": "-RYvrFQZo6ui"
      },
      "source": [
        "# 3 - Tipos e Conversão de tipos\n",
        "O Numpy suporta uma variedade de tipos muito maior do que o Python."
      ]
    },
    {
      "cell_type": "markdown",
      "metadata": {
        "id": "V-ugXfGpo6um"
      },
      "source": [
        "Existem 5 tipos básicos numéricos\n",
        "- Booleans (bool)\n",
        "- Integers (int)\n",
        "- Unsigned Intergers (uint)\n",
        "- Floating Points (float)\n",
        "- Complex\n",
        "\n",
        "Complementarmente, a célula abaixo mostra um quadro comparativos com uma maior quantidade de tipos do Numpy."
      ]
    },
    {
      "cell_type": "markdown",
      "metadata": {
        "id": "YNIECm-Fo6un"
      },
      "source": [
        "![datatypes.png](attachment:datatypes.png)"
      ]
    },
    {
      "cell_type": "code",
      "execution_count": 1,
      "metadata": {
        "id": "h103QJyKo6un"
      },
      "outputs": [],
      "source": [
        "import numpy as np"
      ]
    },
    {
      "cell_type": "code",
      "execution_count": 3,
      "metadata": {
        "id": "w7tL0aL4o6uo",
        "outputId": "ed1aea68-bec5-419a-83a9-1b0ac00f5985",
        "colab": {
          "base_uri": "https://localhost:8080/"
        }
      },
      "outputs": [
        {
          "output_type": "execute_result",
          "data": {
            "text/plain": [
              "1.0"
            ]
          },
          "metadata": {},
          "execution_count": 3
        }
      ],
      "source": [
        "# A variavel x e criada como um float de 32 bits com 1 bit para representar se ele\n",
        "# e positivo ou negativo, 8 bits para representar o seu expoente e 23 bits para \n",
        "# representar a mantissa\n",
        "x = np.float32(1.0)\n",
        "x"
      ]
    },
    {
      "cell_type": "code",
      "execution_count": 4,
      "metadata": {
        "id": "_bTsDsg9o6up",
        "outputId": "0cecdbcf-0e36-442f-8016-59ba5c5c9f3b",
        "colab": {
          "base_uri": "https://localhost:8080/"
        }
      },
      "outputs": [
        {
          "output_type": "execute_result",
          "data": {
            "text/plain": [
              "array([1, 2, 4])"
            ]
          },
          "metadata": {},
          "execution_count": 4
        }
      ],
      "source": [
        "# A variavel y e criada como um int32 bits que consegue representar numeros inteiros\n",
        "# que vao de -2147483648 ate 2147483647\n",
        "y = np.int_([1,2,4])\n",
        "y"
      ]
    },
    {
      "cell_type": "code",
      "execution_count": 6,
      "metadata": {
        "id": "HteH3rGJo6uq",
        "outputId": "2c79415d-06fd-40ca-bfef-ff730d747e6a",
        "colab": {
          "base_uri": "https://localhost:8080/"
        }
      },
      "outputs": [
        {
          "output_type": "execute_result",
          "data": {
            "text/plain": [
              "array([0, 1, 2], dtype=uint8)"
            ]
          },
          "metadata": {},
          "execution_count": 6
        }
      ],
      "source": [
        "# Cria um array que representa o intervalo aberto [0,3[ que guarda valores inteiros\n",
        "# do tipo unsigned int de 8 bits, portanto em cada espaco do array sao possiveis\n",
        "# armazenar numeros que vao de 0 ate 255\n",
        "z = np.arange(3, dtype=np.uint8)\n",
        "z"
      ]
    },
    {
      "cell_type": "code",
      "execution_count": 9,
      "metadata": {
        "id": "Ei6Pt3S1o6uq",
        "outputId": "9fb8e296-9d38-4fff-9ae4-16d3af26106f",
        "colab": {
          "base_uri": "https://localhost:8080/"
        }
      },
      "outputs": [
        {
          "output_type": "execute_result",
          "data": {
            "text/plain": [
              "array([1., 2., 3.], dtype=float32)"
            ]
          },
          "metadata": {},
          "execution_count": 9
        }
      ],
      "source": [
        "# Cria um array com os numeros [1, 2, 3] e esses numeros sao representados por\n",
        "# um float de 32 bits com, 1 bit para sinal, 8 bits para o expoente e 23 bits para\n",
        "# a mantissa\n",
        "np.array([1, 2, 3], dtype='f')"
      ]
    },
    {
      "cell_type": "markdown",
      "metadata": {
        "id": "GiELzwEfo6ur"
      },
      "source": [
        "## Convertendo tipos de arrays"
      ]
    },
    {
      "cell_type": "markdown",
      "metadata": {
        "id": "misiczgAo6ur"
      },
      "source": [
        "Para convertermos arrays Numpy, basta utilizarmos o método astype()."
      ]
    },
    {
      "cell_type": "code",
      "execution_count": 14,
      "metadata": {
        "id": "bTnHoWcto6us",
        "outputId": "37f8658a-2ec2-41d3-9b3c-787775b91cd5",
        "colab": {
          "base_uri": "https://localhost:8080/"
        }
      },
      "outputs": [
        {
          "output_type": "stream",
          "name": "stdout",
          "text": [
            "<class 'numpy.float64'>\n"
          ]
        }
      ],
      "source": [
        "# Retorna o array z que guarda inteiros para um array zf que guarda float de 64 bits\n",
        "zf = z.astype(float)\n",
        "print(type(zf[0]))"
      ]
    },
    {
      "cell_type": "code",
      "execution_count": 15,
      "metadata": {
        "id": "q5TqZrnto6us",
        "outputId": "6e945f5b-83cd-4786-d4c5-bdeb7b7ea9c8",
        "colab": {
          "base_uri": "https://localhost:8080/"
        }
      },
      "outputs": [
        {
          "output_type": "execute_result",
          "data": {
            "text/plain": [
              "array([0, 1, 2], dtype=int8)"
            ]
          },
          "metadata": {},
          "execution_count": 15
        }
      ],
      "source": [
        "# Retorna o array z que guarda inteiros para um array zi que guarda inteiros de 8 bits\n",
        "np.int8(z)"
      ]
    },
    {
      "cell_type": "markdown",
      "metadata": {
        "id": "rLnvXYWao6us"
      },
      "source": [
        "Para verificarmos o tipo de um array Numpy, basta verificarmos o seu atributo dtype."
      ]
    },
    {
      "cell_type": "code",
      "execution_count": 16,
      "metadata": {
        "id": "wdpkNPvWo6ut",
        "outputId": "2bb9581e-3333-4faa-9fc2-d2cc9644fa56",
        "colab": {
          "base_uri": "https://localhost:8080/"
        }
      },
      "outputs": [
        {
          "output_type": "execute_result",
          "data": {
            "text/plain": [
              "dtype('uint8')"
            ]
          },
          "metadata": {},
          "execution_count": 16
        }
      ],
      "source": [
        "# Verifica qual e o tipo de dado que o array guarda\n",
        "z.dtype"
      ]
    }
  ],
  "metadata": {
    "kernelspec": {
      "display_name": "Python 3",
      "language": "python",
      "name": "python3"
    },
    "language_info": {
      "codemirror_mode": {
        "name": "ipython",
        "version": 3
      },
      "file_extension": ".py",
      "mimetype": "text/x-python",
      "name": "python",
      "nbconvert_exporter": "python",
      "pygments_lexer": "ipython3",
      "version": "3.6.8"
    },
    "colab": {
      "provenance": []
    }
  },
  "nbformat": 4,
  "nbformat_minor": 0
}