{
  "cells": [
    {
      "cell_type": "markdown",
      "metadata": {
        "id": "orcOdw7g7YoB"
      },
      "source": [
        "# 2 - Ferramentas Python para manipulação e visualização de dados: `Numpy`, `Matplotlib` e `Pandas`"
      ]
    },
    {
      "cell_type": "markdown",
      "metadata": {
        "id": "HYDpYZg37YoF"
      },
      "source": [
        "## Numpy\n",
        "O `NumPy` é uma poderosa biblioteca Python que é usada principalmente para realizar cálculos em **Arrays Multidimensionais**."
      ]
    },
    {
      "cell_type": "code",
      "execution_count": 2,
      "metadata": {
        "id": "aabFC8iG7YoH"
      },
      "outputs": [],
      "source": [
        "# Importacao da biblioteca NumPy\n",
        "import numpy as np"
      ]
    },
    {
      "cell_type": "code",
      "execution_count": 6,
      "metadata": {
        "colab": {
          "base_uri": "https://localhost:8080/"
        },
        "id": "X0ruYddB7YoI",
        "outputId": "edd1e350-2b16-41f6-a2e2-2d94f4de1ce7"
      },
      "outputs": [
        {
          "output_type": "stream",
          "name": "stdout",
          "text": [
            "[[1, 2, 3]]\n",
            "[[1 2 3]]\n",
            "(1, 3)\n",
            "<class 'list'>\n",
            "<class 'numpy.ndarray'>\n"
          ]
        }
      ],
      "source": [
        "# Inicializa um array do numpy a partir de uma lista nativa do python\n",
        "# Printa a lista nativa\n",
        "# Printa o array do numpy\n",
        "# Printa a dimensionalidade do array, pois ele pode ser uma matriz\n",
        "# Printa o tipo da variável lista1\n",
        "# Printa o tipo da variável array1\n",
        "lista1 = [[1, 2, 3]]\n",
        "\n",
        "array1 = np.array(lista1)\n",
        "\n",
        "print(lista1)\n",
        "print(array1)\n",
        "print(array1.shape)\n",
        "print(type(lista1))\n",
        "print(type(array1))"
      ]
    },
    {
      "cell_type": "code",
      "execution_count": 8,
      "metadata": {
        "colab": {
          "base_uri": "https://localhost:8080/"
        },
        "id": "-Sz_ykZ57YoJ",
        "outputId": "87c4f99c-5a77-4a58-c924-6a6dc6ae5c71"
      },
      "outputs": [
        {
          "output_type": "stream",
          "name": "stdout",
          "text": [
            "array 2: [[1 2 3]\n",
            " [3 4 5]\n",
            " [5 6 7]]\n",
            "array 1: [[1 2 3]]\n",
            "Linha 1: [1 2 3]\n",
            "Média de uma linha: 4.0\n"
          ]
        }
      ],
      "source": [
        "# Inicializa uma lista de listas nativa do python\n",
        "# Inicializa uma matriz\n",
        "# Printa a matriz completa\n",
        "# Printa a primeira linha da matriz\n",
        "# Printa a media de toda a matriz\n",
        "\n",
        "lista2 = [[1, 2, 3], \n",
        "          [3, 4, 5],\n",
        "          [5, 6, 7]]\n",
        "array2 = np.array(lista2)\n",
        "\n",
        "print('array 2: {}'.format(array2))\n",
        "print('array 1: {}'.format(array1))\n",
        "print('Linha 1: {}'.format(array2[0]))\n",
        "\n",
        "print('Média de uma linha: {}'.format(np.average(array2)))"
      ]
    },
    {
      "cell_type": "code",
      "execution_count": null,
      "metadata": {
        "colab": {
          "base_uri": "https://localhost:8080/"
        },
        "id": "1bv86F247YoK",
        "outputId": "fd6660bb-970d-420d-b1a6-c580b1fb8415"
      },
      "outputs": [
        {
          "output_type": "execute_result",
          "data": {
            "text/plain": [
              "array([[ 2,  4,  6],\n",
              "       [ 4,  6,  8],\n",
              "       [ 6,  8, 10]])"
            ]
          },
          "metadata": {},
          "execution_count": 25
        }
      ],
      "source": [
        "# E feita a soma de matrizes coluna a coluna em todas as dimensões.\n",
        "# Se faz necessario que os shapes sejam compativeis, pois caso contrario ocorrera um erro\n",
        "array1 + array2"
      ]
    },
    {
      "cell_type": "code",
      "execution_count": 9,
      "metadata": {
        "colab": {
          "base_uri": "https://localhost:8080/"
        },
        "id": "-WbbJ4h-7YoK",
        "outputId": "7af66999-6c1f-4d11-9f87-fa135df8990e"
      },
      "outputs": [
        {
          "output_type": "execute_result",
          "data": {
            "text/plain": [
              "array([[ 1,  4,  9],\n",
              "       [ 3,  8, 15],\n",
              "       [ 5, 12, 21]])"
            ]
          },
          "metadata": {},
          "execution_count": 9
        }
      ],
      "source": [
        "# E feita a multiplicacao de matrizes coluna a coluna em todas as dimensões.\n",
        "# Se faz necessario que os shapes sejam compativeis, pois caso contrario ocorrera um erro\n",
        "array1 * array2"
      ]
    },
    {
      "cell_type": "code",
      "execution_count": 10,
      "metadata": {
        "colab": {
          "base_uri": "https://localhost:8080/"
        },
        "id": "oltoM_K87YoL",
        "outputId": "ab0e99c7-4598-4b61-b6cc-7a8137b6ebdc"
      },
      "outputs": [
        {
          "output_type": "stream",
          "name": "stdout",
          "text": [
            "[[0. 0. 0. 0. 0.]\n",
            " [0. 0. 0. 0. 0.]\n",
            " [0. 0. 0. 0. 0.]]\n"
          ]
        }
      ],
      "source": [
        "# E feita a inicializacao de um array numpy a com 3 linhas e 5 colunas\n",
        "# com todas as casas preenchidas com 0\n",
        "# Printa na tela o array a\n",
        "a = np.zeros((3, 5))\n",
        "print(a)"
      ]
    },
    {
      "cell_type": "code",
      "execution_count": null,
      "metadata": {
        "colab": {
          "base_uri": "https://localhost:8080/"
        },
        "id": "RVCLKmmD7YoL",
        "outputId": "51d23acb-2bbe-41de-876d-8f3d292564b7"
      },
      "outputs": [
        {
          "output_type": "execute_result",
          "data": {
            "text/plain": [
              "numpy.float64"
            ]
          },
          "metadata": {},
          "execution_count": 28
        }
      ],
      "source": [
        "# Printa o tipo da variavel no local [0, 0] da matriz a\n",
        "type(a[0, 0])"
      ]
    },
    {
      "cell_type": "code",
      "execution_count": 11,
      "metadata": {
        "colab": {
          "base_uri": "https://localhost:8080/"
        },
        "id": "JU4C_Q6i7YoM",
        "outputId": "340c4e66-9431-414b-a861-ffd37d3d2a6d"
      },
      "outputs": [
        {
          "output_type": "stream",
          "name": "stdout",
          "text": [
            "[0 0 0 0 0 0]\n"
          ]
        }
      ],
      "source": [
        "# Cria uma matriz com 6 colunas e 1 linha preenchida com zeros\n",
        "# Printa a matriz criada\n",
        "b = np.zeros((6,), dtype=int)\n",
        "print(b)"
      ]
    },
    {
      "cell_type": "code",
      "execution_count": null,
      "metadata": {
        "colab": {
          "base_uri": "https://localhost:8080/"
        },
        "id": "6i-hPBrI7YoM",
        "outputId": "68479207-3ca8-4c3b-bdb5-04d92b6ea3a6"
      },
      "outputs": [
        {
          "output_type": "execute_result",
          "data": {
            "text/plain": [
              "numpy.int64"
            ]
          },
          "metadata": {},
          "execution_count": 44
        }
      ],
      "source": [
        "# Printa o tipo da variavel usada na primeira coluna e primeira linha\n",
        "type(b[0])"
      ]
    },
    {
      "cell_type": "code",
      "execution_count": null,
      "metadata": {
        "colab": {
          "base_uri": "https://localhost:8080/"
        },
        "id": "fGndzKb-7YoN",
        "outputId": "dea8ed77-aaf1-4cad-c7c5-5bc1536fccd1"
      },
      "outputs": [
        {
          "output_type": "execute_result",
          "data": {
            "text/plain": [
              "array([[2., 2., 2.],\n",
              "       [2., 2., 2.],\n",
              "       [2., 2., 2.]])"
            ]
          },
          "metadata": {},
          "execution_count": 49
        }
      ],
      "source": [
        "# Retorna um novo array com uma determinada dimensão, valores e tipo\n",
        "np.full((3,3), 2, dtype=float)"
      ]
    },
    {
      "cell_type": "code",
      "execution_count": null,
      "metadata": {
        "id": "ZewkVSLu7YoN",
        "outputId": "575fc3bc-35ae-4728-b18f-17bdcdd275b2"
      },
      "outputs": [
        {
          "data": {
            "text/plain": [
              "array([[ 29.        , 234.63314886, 253.44      , 269.44      ],\n",
              "       [253.44      , 246.55636364, 253.44      ,  36.        ],\n",
              "       [ 29.        , 234.63314886, 269.44      , 253.44      ]])"
            ]
          },
          "execution_count": 77,
          "metadata": {},
          "output_type": "execute_result"
        }
      ],
      "source": [
        "# Retorna um array nao utilizado da memoria com as especificacoes necessarias\n",
        "np.empty([3, 4])"
      ]
    },
    {
      "cell_type": "code",
      "execution_count": null,
      "metadata": {
        "id": "t6gcPQrn7YoN",
        "outputId": "1ea50a1e-520f-40cf-ba60-95136349a352"
      },
      "outputs": [
        {
          "name": "stdout",
          "output_type": "stream",
          "text": [
            "[[0.25263639 0.69044127 0.8431242 ]\n",
            " [0.61506283 0.39068383 0.88651093]]\n"
          ]
        }
      ],
      "source": [
        "# Cria arrays randomicos com valores que variam entre 0 e 1 de acordo com o  \n",
        "# shape o qual b passado\n",
        "c = np.random.rand(2, 3)\n",
        "print(c)"
      ]
    },
    {
      "cell_type": "code",
      "execution_count": null,
      "metadata": {
        "id": "KvtH_Xj67YoO",
        "outputId": "1ac0a53f-2360-4dce-ff92-d9e1ee93d511"
      },
      "outputs": [
        {
          "data": {
            "text/plain": [
              "array([[0.25263639, 0.61506283],\n",
              "       [0.69044127, 0.39068383],\n",
              "       [0.8431242 , 0.88651093]])"
            ]
          },
          "execution_count": 79,
          "metadata": {},
          "output_type": "execute_result"
        }
      ],
      "source": [
        "# Transforma as colunas de c em linhas e as linhas em colunas\n",
        "np.transpose(c)"
      ]
    },
    {
      "cell_type": "code",
      "execution_count": 12,
      "metadata": {
        "id": "J9-gFXZd7YoO",
        "outputId": "471d25ec-96f3-4a20-a2ab-c81d000d1082",
        "colab": {
          "base_uri": "https://localhost:8080/"
        }
      },
      "outputs": [
        {
          "output_type": "stream",
          "name": "stdout",
          "text": [
            "[[1 2 3]\n",
            " [4 5 6]\n",
            " [7 8 9]]\n"
          ]
        }
      ],
      "source": [
        "# Cria um array d a partir dos vetores [1,2,3], [4,5,6], [7,8,9]\n",
        "# com cada vetor formando uma coluna\n",
        "d = np.array([[1, 2, 3], [4, 5, 6], [7, 8, 9]])\n",
        "print(d)"
      ]
    },
    {
      "cell_type": "code",
      "execution_count": 13,
      "metadata": {
        "id": "7qdgM_Nv7YoO",
        "outputId": "939a8cd7-37e6-4e7c-afb6-f82f76dff44e",
        "colab": {
          "base_uri": "https://localhost:8080/"
        }
      },
      "outputs": [
        {
          "output_type": "execute_result",
          "data": {
            "text/plain": [
              "array([1, 4, 7])"
            ]
          },
          "metadata": {},
          "execution_count": 13
        }
      ],
      "source": [
        "d[:, 0]"
      ]
    },
    {
      "cell_type": "code",
      "execution_count": null,
      "metadata": {
        "id": "NmSIRe-O7YoP",
        "outputId": "5c7b8e6c-3a7c-4fef-f98a-0f0b3d5b75db"
      },
      "outputs": [
        {
          "data": {
            "text/plain": [
              "array([2, 5, 8])"
            ]
          },
          "execution_count": 16,
          "metadata": {},
          "output_type": "execute_result"
        }
      ],
      "source": [
        "d[:, 1]"
      ]
    },
    {
      "cell_type": "code",
      "execution_count": 22,
      "metadata": {
        "id": "L5IrvFa27YoP",
        "outputId": "1da0cbf6-71ad-42c7-e249-b0a31c064789",
        "colab": {
          "base_uri": "https://localhost:8080/"
        }
      },
      "outputs": [
        {
          "output_type": "execute_result",
          "data": {
            "text/plain": [
              "array([[1, 2],\n",
              "       [4, 5],\n",
              "       [7, 8]])"
            ]
          },
          "metadata": {},
          "execution_count": 22
        }
      ],
      "source": [
        "# O : indica que vai imprimir todas as linhas e o 0:2 indica que vai imprimir os\n",
        "# valores das colunas no intervalo [0,2[\n",
        "d[:, 0:2]"
      ]
    },
    {
      "cell_type": "code",
      "execution_count": 29,
      "metadata": {
        "id": "lpDABwZZ7YoP",
        "outputId": "26e4dcbd-b98d-4d05-879e-deafefb60aab",
        "colab": {
          "base_uri": "https://localhost:8080/"
        }
      },
      "outputs": [
        {
          "output_type": "execute_result",
          "data": {
            "text/plain": [
              "array([3, 6, 9])"
            ]
          },
          "metadata": {},
          "execution_count": 29
        }
      ],
      "source": [
        "# O 2 no lugar das colunas pareado com o : no local das linhas retorna um array\n",
        "# que tem o valor de cada linha na coluna 2 nesse caso especifico\n",
        "d[:, 2]"
      ]
    },
    {
      "cell_type": "code",
      "execution_count": 33,
      "metadata": {
        "id": "kUgxSpUr7YoP",
        "outputId": "76deb4b5-288e-4f64-e4e2-1fd311832b98",
        "colab": {
          "base_uri": "https://localhost:8080/"
        }
      },
      "outputs": [
        {
          "output_type": "stream",
          "name": "stdout",
          "text": [
            "[[1 2]\n",
            " [4 5]\n",
            " [7 8]]\n",
            "\n",
            "[3 6 9]\n"
          ]
        }
      ],
      "source": [
        "# x recebe uma matriz d, mas recebe so as colunas de [0,2[\n",
        "# y recebe uma transforma a matriz d em um vetor ao qual cada elemento\n",
        "# corresponde a uma linha da matriz d e o seu elemento na coluna 2\n",
        "# posteriormente ambos sao impressos\n",
        "x = d[:, 0:2]\n",
        "y = d[:, 2]\n",
        "\n",
        "print(x)\n",
        "print('')\n",
        "print(y)"
      ]
    },
    {
      "cell_type": "markdown",
      "metadata": {
        "id": "JwXW3Um37YoQ"
      },
      "source": [
        "**Notação: start:stop:step**"
      ]
    },
    {
      "cell_type": "code",
      "execution_count": 44,
      "metadata": {
        "id": "s4WWTLFB7YoQ",
        "outputId": "7f687532-4696-4dac-9460-bc30c9bba9c2",
        "colab": {
          "base_uri": "https://localhost:8080/"
        }
      },
      "outputs": [
        {
          "output_type": "execute_result",
          "data": {
            "text/plain": [
              "array([1, 3, 5])"
            ]
          },
          "metadata": {},
          "execution_count": 44
        }
      ],
      "source": [
        "# O vetor e percorrido no intervalo aberto de [1,7[ e cada passo e feito de 2 em 2\n",
        "x = np.array([0, 1, 2, 3, 4, 5, 6, 7, 8, 9])\n",
        "x[1:7:2]"
      ]
    },
    {
      "cell_type": "code",
      "execution_count": 57,
      "metadata": {
        "id": "Z-3ujoIi7YoQ"
      },
      "outputs": [],
      "source": [
        "# O vetor x e salvo no diretorio /tmp/x.npy da maquina virtual ao qual esta sendo \n",
        "# usado pelo colab pelo comando np.save() e posteriormente x e deletado da memoria\n",
        "# principal da maquina \n",
        "np.save('/tmp/x.npy', x)\n",
        "del(x)"
      ]
    },
    {
      "cell_type": "code",
      "execution_count": 58,
      "metadata": {
        "id": "JRJKVymQ7YoQ",
        "outputId": "27233dd9-0549-406c-9e64-9f2d86b9cf9a",
        "colab": {
          "base_uri": "https://localhost:8080/"
        }
      },
      "outputs": [
        {
          "output_type": "stream",
          "name": "stdout",
          "text": [
            "[0 1 2 3 4 5 6 7 8 9]\n",
            "<class 'numpy.ndarray'>\n"
          ]
        }
      ],
      "source": [
        "# Carrega o vetor da memoria secundaria para a memoria principal na variavel x\n",
        "# Printa o vetor que estava guardado na memoria secundaria\n",
        "# Printa o tipo da variavel x\n",
        "x = np.load('/tmp/x.npy')\n",
        "print(x)\n",
        "print(type(x))"
      ]
    },
    {
      "cell_type": "code",
      "execution_count": 65,
      "metadata": {
        "id": "9WRhzPnf7YoR",
        "outputId": "86765f0f-6be7-412b-b9ed-1798d6167d60",
        "colab": {
          "base_uri": "https://localhost:8080/"
        }
      },
      "outputs": [
        {
          "output_type": "stream",
          "name": "stdout",
          "text": [
            "12.5\n",
            "<class 'numpy.memmap'>\n"
          ]
        }
      ],
      "source": [
        "# Usar memory mapping quando o conteúdo não couber em memória RAM\n",
        "# np.memap eh uma forma de usar arrays que sao grandes o suficiente\n",
        "# para nao caber em memoria, portanto os dados sao todos guardaos em memoria\n",
        "# secundaria a fim de conseguir trabalhar com ele\n",
        "x_mm = np.memmap('/tmp/x_mm.npy', dtype='float32', mode='w+', shape=(1000, 100))\n",
        "x_mm[999][99] = 12.5\n",
        "x_mm[10][10] = 99.9\n",
        "print(x_mm[999][99])\n",
        "print(type(x_mm))"
      ]
    },
    {
      "cell_type": "code",
      "execution_count": 61,
      "metadata": {
        "id": "-WY2yme57YoR"
      },
      "outputs": [],
      "source": [
        "# Delete the memmap instance to close the file (the mmap file is not deleted). \n",
        "# Deletion flushes memory changes to disk before removing the object.\n",
        "# Deleta a instancia em memoria que referencia ao mapeamento de memoria que foi criado,\n",
        "# para fazer essa delecao e necessario primeiro que sejam atualizados os dados na\n",
        "# memoria secundaria e posteriormente os dados da memoria primaria sao considerados\n",
        "# livres, portanto a partir dai e possivel que o objeto x_mm seja excluido, pois \n",
        "# ja esta salvo na memoria secundaria\n",
        "del(x_mm)"
      ]
    },
    {
      "cell_type": "code",
      "execution_count": 66,
      "metadata": {
        "id": "xVqUbzgy7YoR",
        "outputId": "1032616c-e0d1-442c-ae1e-5a47389bfe2c",
        "colab": {
          "base_uri": "https://localhost:8080/"
        }
      },
      "outputs": [
        {
          "output_type": "stream",
          "name": "stdout",
          "text": [
            "99.9\n"
          ]
        }
      ],
      "source": [
        "# Load\n",
        "# Carrega o array que foi mapeado para a memoria no endereco /tmp/x_mm.npy \n",
        "# que tem o tipo de dados float32, no modo de leitura 'r' e com o shape (1000, 100),\n",
        "# pois ele tem 1000 linhas e 100 colunas\n",
        "x_mm = np.memmap('/tmp/x_mm.npy', dtype='float32', mode='r', shape=(1000, 100))\n",
        "# x_mm = np.load('/tmp/x_mm.npy')\n",
        "print(x_mm[10][10])"
      ]
    },
    {
      "cell_type": "code",
      "execution_count": 68,
      "metadata": {
        "id": "jjv2TQxv7YoR"
      },
      "outputs": [],
      "source": [
        "# Crie uma lista simples com 8 alturas de jogadores de baseball\n",
        "# (tipo inteiro)\n",
        "baseball = [180, 215, 210, 210, 188, 176, 209, 200]"
      ]
    },
    {
      "cell_type": "code",
      "execution_count": 70,
      "metadata": {
        "id": "dLJKE0Of7YoS"
      },
      "outputs": [],
      "source": [
        "# Importe o pacote numpy como np\n",
        "import numpy as np"
      ]
    },
    {
      "cell_type": "code",
      "execution_count": 71,
      "metadata": {
        "id": "TDdM245p7YoS"
      },
      "outputs": [],
      "source": [
        "# Crie um array numpy da variável baseball: np_baseball\n",
        "np_baseball = np.array(baseball)"
      ]
    },
    {
      "cell_type": "code",
      "execution_count": 72,
      "metadata": {
        "id": "dcPWwkmS7YoS",
        "outputId": "2bbe074b-efaf-413d-8bb8-7e58b337fb10",
        "colab": {
          "base_uri": "https://localhost:8080/"
        }
      },
      "outputs": [
        {
          "output_type": "stream",
          "name": "stdout",
          "text": [
            "<class 'numpy.ndarray'>\n"
          ]
        }
      ],
      "source": [
        "# Imprima o tipo da variável np_baseball\n",
        "print(type(np_baseball))"
      ]
    },
    {
      "cell_type": "code",
      "execution_count": 73,
      "metadata": {
        "id": "AkTwRJba7YoS"
      },
      "outputs": [],
      "source": [
        "# Cria um array nativo do python com as alturas em polegadas height_in\n",
        "# Cria um array nation do python com o peso em pounds weight_lb\n",
        "height_in = [74, 74, 72, 72, 73, 69, 69, 71, 76, 71, 73, 73, 74, 74, 69, 70, 73, 75, 78, 79, 76, 74, 76, 72, 71, 75, 77, 74, 73, 74, 78, 73, 75, 73, 75, 75, 74, 69, 71, 74, 73, 73, 76, 74, 74, 70, 72, 77, 74, 70, 73, 75, 76, 76, 78, 74, 74, 76, 77, 81, 78, 75, 77, 75, 76, 74, 72, 72, 75, 73, 73, 73, 70, 70, 70, 76, 68, 71, 72, 75, 75, 75, 75, 68, 74, 78, 71, 73, 76, 74, 74, 79, 75, 73, 76, 74, 74, 73, 72, 74, 73, 74, 72, 73, 69, 72, 73, 75, 75, 73, 72, 72, 76, 74, 72, 77, 74, 77, 75, 76, 80, 74, 74, 75, 78, 73, 73, 74, 75, 76, 71, 73, 74, 76, 76, 74, 73, 74, 70, 72, 73, 73, 73, 73, 71, 74, 74, 72, 74, 71, 74, 73, 75, 75, 79, 73, 75, 76, 74, 76, 78, 74, 76, 72, 74, 76, 74, 75, 78, 75, 72, 74, 72, 74, 70, 71, 70, 75, 71, 71, 73, 72, 71, 73, 72, 75, 74, 74, 75, 73, 77, 73, 76, 75, 74, 76, 75, 73, 71, 76, 75, 72, 71, 77, 73, 74, 71, 72, 74, 75, 73, 72, 75, 75, 74, 72, 74, 71, 70, 74, 77, 77, 75, 75, 78, 75, 76, 73, 75, 75, 79, 77, 76, 71, 75, 74, 69, 71, 76, 72, 72, 70, 72, 73, 71, 72, 71, 73, 72, 73, 74, 74, 72, 75, 74, 74, 77, 75, 73, 72, 71, 74, 77, 75, 75, 75, 78, 78, 74, 76, 78, 76, 70, 72, 80, 74, 74, 71, 70, 72, 71, 74, 71, 72, 71, 74, 69, 76, 75, 75, 76, 73, 76, 73, 77, 73, 72, 72, 77, 77, 71, 74, 74, 73, 78, 75, 73, 70, 74, 72, 73, 73, 75, 75, 74, 76, 73, 74, 75, 75, 72, 73, 73, 72, 74, 78, 76, 73, 74, 75, 70, 75, 71, 72, 78, 75, 73, 73, 71, 75, 77, 72, 69, 73, 74, 72, 70, 75, 70, 72, 72, 74, 73, 74, 76, 75, 80, 72, 75, 73, 74, 74, 73, 75, 75, 71, 73, 75, 74, 74, 72, 74, 74, 74, 73, 76, 75, 72, 73, 73, 73, 72, 72, 72, 72, 71, 75, 75, 74, 73, 75, 79, 74, 76, 73, 74, 74, 72, 74, 74, 75, 78, 74, 74, 74, 77, 70, 73, 74, 73, 71, 75, 71, 72, 77, 74, 70, 77, 73, 72, 76, 71, 76, 78, 75, 73, 78, 74, 79, 75, 76, 72, 75, 75, 70, 72, 70, 74, 71, 76, 73, 76, 71, 69, 72, 72, 69, 73, 69, 73, 74, 74, 72, 71, 72, 72, 76, 76, 76, 74, 76, 75, 71, 72, 71, 73, 75, 76, 75, 71, 75, 74, 72, 73, 73, 73, 73, 76, 72, 76, 73, 73, 73, 75, 75, 77, 73, 72, 75, 70, 74, 72, 80, 71, 71, 74, 74, 73, 75, 76, 73, 77, 72, 73, 77, 76, 71, 75, 73, 74, 77, 71, 72, 73, 69, 73, 70, 74, 76, 73, 73, 75, 73, 79, 74, 73, 74, 77, 75, 74, 73, 77, 73, 77, 74, 74, 73, 77, 74, 77, 75, 77, 75, 71, 74, 70, 79, 72, 72, 70, 74, 74, 72, 73, 72, 74, 74, 76, 82, 74, 74, 70, 73, 73, 74, 77, 72, 76, 73, 73, 72, 74, 74, 71, 72, 75, 74, 74, 77, 70, 71, 73, 76, 71, 75, 74, 72, 76, 79, 76, 73, 76, 78, 75, 76, 72, 72, 73, 73, 75, 71, 76, 70, 75, 74, 75, 73, 71, 71, 72, 73, 73, 72, 69, 73, 78, 71, 73, 75, 76, 70, 74, 77, 75, 79, 72, 77, 73, 75, 75, 75, 73, 73, 76, 77, 75, 70, 71, 71, 75, 74, 69, 70, 75, 72, 75, 73, 72, 72, 72, 76, 75, 74, 69, 73, 72, 72, 75, 77, 76, 80, 77, 76, 79, 71, 75, 73, 76, 77, 73, 76, 70, 75, 73, 75, 70, 69, 71, 72, 72, 73, 70, 70, 73, 76, 75, 72, 73, 79, 71, 72, 74, 74, 74, 72, 76, 76, 72, 72, 71, 72, 72, 70, 77, 74, 72, 76, 71, 76, 71, 73, 70, 73, 73, 72, 71, 71, 71, 72, 72, 74, 74, 74, 71, 72, 75, 72, 71, 72, 72, 72, 72, 74, 74, 77, 75, 73, 75, 73, 76, 72, 77, 75, 72, 71, 71, 75, 72, 73, 73, 71, 70, 75, 71, 76, 73, 68, 71, 72, 74, 77, 72, 76, 78, 81, 72, 73, 76, 72, 72, 74, 76, 73, 76, 75, 70, 71, 74, 72, 73, 76, 76, 73, 71, 68, 71, 71, 74, 77, 69, 72, 76, 75, 76, 75, 76, 72, 74, 76, 74, 72, 75, 78, 77, 70, 72, 79, 74, 71, 68, 77, 75, 71, 72, 70, 72, 72, 73, 72, 74, 72, 72, 75, 72, 73, 74, 72, 78, 75, 72, 74, 75, 75, 76, 74, 74, 73, 74, 71, 74, 75, 76, 74, 76, 76, 73, 75, 75, 74, 68, 72, 75, 71, 70, 72, 73, 72, 75, 74, 70, 76, 71, 82, 72, 73, 74, 71, 75, 77, 72, 74, 72, 73, 78, 77, 73, 73, 73, 73, 73, 76, 75, 70, 73, 72, 73, 75, 74, 73, 73, 76, 73, 75, 70, 77, 72, 77, 74, 75, 75, 75, 75, 72, 74, 71, 76, 71, 75, 76, 83, 75, 74, 76, 72, 72, 75, 75, 72, 77, 73, 72, 70, 74, 72, 74, 72, 71, 70, 71, 76, 74, 76, 74, 74, 74, 75, 75, 71, 71, 74, 77, 71, 74, 75, 77, 76, 74, 76, 72, 71, 72, 75, 73, 68, 72, 69, 73, 73, 75, 70, 70, 74, 75, 74, 74, 73, 74, 75, 77, 73, 74, 76, 74, 75, 73, 76, 78, 75, 73, 77, 74, 72, 74, 72, 71, 73, 75, 73, 67, 67, 76, 74, 73, 70, 75, 70, 72, 77, 79, 78, 74, 75, 75, 78, 76, 75, 69, 75, 72, 75, 73, 74, 75, 75, 73]\n",
        "weight_lb = [180, 215, 210, 210, 188, 176, 209, 200, 231, 180, 188, 180, 185, 160, 180, 185, 189, 185, 219, 230, 205, 230, 195, 180, 192, 225, 203, 195, 182, 188, 200, 180, 200, 200, 245, 240, 215, 185, 175, 199, 200, 215, 200, 205, 206, 186, 188, 220, 210, 195, 200, 200, 212, 224, 210, 205, 220, 195, 200, 260, 228, 270, 200, 210, 190, 220, 180, 205, 210, 220, 211, 200, 180, 190, 170, 230, 155, 185, 185, 200, 225, 225, 220, 160, 205, 235, 250, 210, 190, 160, 200, 205, 222, 195, 205, 220, 220, 170, 185, 195, 220, 230, 180, 220, 180, 180, 170, 210, 215, 200, 213, 180, 192, 235, 185, 235, 210, 222, 210, 230, 220, 180, 190, 200, 210, 194, 180, 190, 240, 200, 198, 200, 195, 210, 220, 190, 210, 225, 180, 185, 170, 185, 185, 180, 178, 175, 200, 204, 211, 190, 210, 190, 190, 185, 290, 175, 185, 200, 220, 170, 220, 190, 220, 205, 200, 250, 225, 215, 210, 215, 195, 200, 194, 220, 180, 180, 170, 195, 180, 170, 206, 205, 200, 225, 201, 225, 233, 180, 225, 180, 220, 180, 237, 215, 190, 235, 190, 180, 165, 195, 200, 190, 190, 185, 185, 205, 190, 205, 206, 220, 208, 170, 195, 210, 190, 211, 230, 170, 185, 185, 241, 225, 210, 175, 230, 200, 215, 198, 226, 278, 215, 230, 240, 184, 219, 170, 218, 190, 225, 220, 176, 190, 197, 204, 167, 180, 195, 220, 215, 185, 190, 205, 205, 200, 210, 215, 200, 205, 211, 190, 208, 200, 210, 232, 230, 210, 220, 210, 202, 212, 225, 170, 190, 200, 237, 220, 170, 193, 190, 150, 220, 200, 190, 185, 185, 200, 172, 220, 225, 190, 195, 219, 190, 197, 200, 195, 210, 177, 220, 235, 180, 195, 195, 190, 230, 190, 200, 190, 190, 200, 200, 184, 200, 180, 219, 187, 200, 220, 205, 190, 170, 160, 215, 175, 205, 200, 214, 200, 190, 180, 205, 220, 190, 215, 235, 191, 200, 181, 200, 210, 240, 185, 165, 190, 185, 175, 155, 210, 170, 175, 220, 210, 205, 200, 205, 195, 240, 150, 200, 215, 202, 200, 190, 205, 190, 160, 215, 185, 200, 190, 210, 185, 220, 190, 202, 205, 220, 175, 160, 190, 200, 229, 206, 220, 180, 195, 175, 188, 230, 190, 200, 190, 219, 235, 180, 180, 180, 200, 234, 185, 220, 223, 200, 210, 200, 210, 190, 177, 227, 180, 195, 199, 175, 185, 240, 210, 180, 194, 225, 180, 205, 193, 230, 230, 220, 200, 249, 190, 208, 245, 250, 160, 192, 220, 170, 197, 155, 190, 200, 220, 210, 228, 190, 160, 184, 180, 180, 200, 176, 160, 222, 211, 195, 200, 175, 206, 240, 185, 260, 185, 221, 205, 200, 170, 201, 205, 185, 205, 245, 220, 210, 220, 185, 175, 170, 180, 200, 210, 175, 220, 206, 180, 210, 195, 200, 200, 164, 180, 220, 195, 205, 170, 240, 210, 195, 200, 205, 192, 190, 170, 240, 200, 205, 175, 250, 220, 224, 210, 195, 180, 245, 175, 180, 215, 175, 180, 195, 230, 230, 205, 215, 195, 180, 205, 180, 190, 180, 190, 190, 220, 210, 255, 190, 230, 200, 205, 210, 225, 215, 220, 205, 200, 220, 197, 225, 187, 245, 185, 185, 175, 200, 180, 188, 225, 200, 210, 245, 213, 231, 165, 228, 210, 250, 191, 190, 200, 215, 254, 232, 180, 215, 220, 180, 200, 170, 195, 210, 200, 220, 165, 180, 200, 200, 170, 224, 220, 180, 198, 240, 239, 185, 210, 220, 200, 195, 220, 230, 170, 220, 230, 165, 205, 192, 210, 205, 200, 210, 185, 195, 202, 205, 195, 180, 200, 185, 240, 185, 220, 205, 205, 180, 201, 190, 208, 240, 180, 230, 195, 215, 190, 195, 215, 215, 220, 220, 230, 195, 190, 195, 209, 204, 170, 185, 205, 175, 210, 190, 180, 180, 160, 235, 200, 210, 180, 190, 197, 203, 205, 170, 200, 250, 200, 220, 200, 190, 170, 190, 220, 215, 206, 215, 185, 235, 188, 230, 195, 168, 190, 160, 200, 200, 189, 180, 190, 200, 220, 187, 240, 190, 180, 185, 210, 220, 219, 190, 193, 175, 180, 215, 210, 200, 190, 185, 220, 170, 195, 205, 195, 210, 190, 190, 180, 220, 190, 186, 185, 190, 180, 190, 170, 210, 240, 220, 180, 210, 210, 195, 160, 180, 205, 200, 185, 245, 190, 210, 200, 200, 222, 215, 240, 170, 220, 156, 190, 202, 221, 200, 190, 210, 190, 200, 165, 190, 185, 230, 208, 209, 175, 180, 200, 205, 200, 250, 210, 230, 244, 202, 240, 200, 215, 177, 210, 170, 215, 217, 198, 200, 220, 170, 200, 230, 231, 183, 192, 167, 190, 180, 180, 215, 160, 205, 223, 175, 170, 190, 240, 175, 230, 223, 196, 167, 195, 190, 250, 190, 190, 190, 170, 160, 150, 225, 220, 209, 210, 176, 260, 195, 190, 184, 180, 195, 195, 219, 225, 212, 202, 185, 200, 209, 200, 195, 228, 210, 190, 212, 190, 218, 220, 190, 235, 210, 200, 188, 210, 235, 188, 215, 216, 220, 180, 185, 200, 210, 220, 185, 231, 210, 195, 200, 205, 200, 190, 250, 185, 180, 170, 180, 208, 235, 215, 244, 220, 185, 230, 190, 200, 180, 190, 196, 180, 230, 224, 160, 178, 205, 185, 210, 180, 190, 200, 257, 190, 220, 165, 205, 200, 208, 185, 215, 170, 235, 210, 170, 180, 170, 190, 150, 230, 203, 260, 246, 186, 210, 198, 210, 215, 180, 200, 245, 200, 192, 192, 200, 192, 205, 190, 186, 170, 197, 219, 200, 220, 207, 225, 207, 212, 225, 170, 190, 210, 230, 210, 200, 238, 234, 222, 200, 190, 170, 220, 223, 210, 215, 196, 175, 175, 189, 205, 210, 180, 180, 197, 220, 228, 190, 204, 165, 216, 220, 208, 210, 215, 195, 200, 215, 229, 240, 207, 205, 208, 185, 190, 170, 208, 225, 190, 225, 185, 180, 165, 240, 220, 212, 163, 215, 175, 205, 210, 205, 208, 215, 180, 200, 230, 211, 230, 190, 220, 180, 205, 190, 180, 205, 190, 195]"
      ]
    },
    {
      "cell_type": "code",
      "execution_count": 78,
      "metadata": {
        "id": "aFljviYZ7YoU"
      },
      "outputs": [],
      "source": [
        "# Crie um array numpy a partir da lista height_in: np_height_in\n",
        "np_height_in = np.array(height_in)\n",
        "np_weight_lb = np.array(weight_lb)"
      ]
    },
    {
      "cell_type": "code",
      "execution_count": 74,
      "metadata": {
        "id": "jdZ429aA7YoU",
        "outputId": "612c684c-e891-4df6-b81f-f643f717eaea",
        "colab": {
          "base_uri": "https://localhost:8080/"
        }
      },
      "outputs": [
        {
          "output_type": "stream",
          "name": "stdout",
          "text": [
            "[74 74 72 ... 75 75 73]\n"
          ]
        }
      ],
      "source": [
        "# Imprima a variável np_height_in\n",
        "print(np_height_in)"
      ]
    },
    {
      "cell_type": "markdown",
      "source": [
        "# Crie um array a partir de weight_lb em quilos: np_weight_kg\n",
        "np_weight_kg = np.array(weight_lb) * 0.453592"
      ],
      "metadata": {
        "id": "VEjIbscj7YoV"
      }
    },
    {
      "cell_type": "code",
      "source": [
        "np_weight_kg = np_weight_lb * 0.453592\n",
        "print(np_weight_lb)\n",
        "print(np_weight_kg)"
      ],
      "metadata": {
        "id": "9JKj1ZgC_CsH",
        "outputId": "e0a84445-fcd6-4bdb-9074-00d9cd63c69d",
        "colab": {
          "base_uri": "https://localhost:8080/"
        }
      },
      "execution_count": 79,
      "outputs": [
        {
          "output_type": "stream",
          "name": "stdout",
          "text": [
            "[180 215 210 ... 205 190 195]\n",
            "[81.64656 97.52228 95.25432 ... 92.98636 86.18248 88.45044]\n"
          ]
        }
      ]
    },
    {
      "cell_type": "code",
      "execution_count": 80,
      "metadata": {
        "id": "YznfMcL77YoU",
        "outputId": "9d18d600-6c81-4cca-91c2-338ba2f027d5",
        "colab": {
          "base_uri": "https://localhost:8080/"
        }
      },
      "outputs": [
        {
          "output_type": "stream",
          "name": "stdout",
          "text": [
            "[74 74 72 ... 75 75 73]\n",
            "[1.8796 1.8796 1.8288 ... 1.905  1.905  1.8542]\n"
          ]
        }
      ],
      "source": [
        "# Converta np_height_in para metros: np_height_m\n",
        "np_height_m = np_height_in*0.0254\n",
        "print(np_height_in)\n",
        "print(np_height_m)"
      ]
    },
    {
      "cell_type": "code",
      "execution_count": 82,
      "metadata": {
        "id": "SqrOU8B07YoV",
        "outputId": "b24ed006-f01c-428c-f589-129bf00e4218",
        "colab": {
          "base_uri": "https://localhost:8080/"
        }
      },
      "outputs": [
        {
          "output_type": "stream",
          "name": "stdout",
          "text": [
            "<class 'numpy.ndarray'>\n",
            "[23.11037639 27.60406069 28.48080465 ... 25.62295933 23.74810865\n",
            " 25.72686361]\n"
          ]
        }
      ],
      "source": [
        "# Calcule e imprima o IMC: bmi\n",
        "bmi = np_weight_kg/(np_height_m ** 2)\n",
        "print(type(bmi))\n",
        "print(bmi)"
      ]
    },
    {
      "cell_type": "markdown",
      "metadata": {
        "id": "Ql0bUMnH7YoV"
      },
      "source": [
        "## Matplotlib\n",
        "O `matplotlib` é uma biblioteca com recursos para a geração de gráficos 2D a partir de *arrays*. Gráficos comuns podem ser criados com alta qualidade a partir de comandos simples, inspirados nos comandos gráficos do MATLAB."
      ]
    },
    {
      "cell_type": "code",
      "execution_count": 101,
      "metadata": {
        "id": "z2hZNKTe7YoV"
      },
      "outputs": [],
      "source": [
        "import matplotlib.pyplot as plt"
      ]
    },
    {
      "cell_type": "code",
      "execution_count": 106,
      "metadata": {
        "id": "KElLSNxm7YoV",
        "outputId": "0077d247-12ba-492c-a452-56d492c79c0b",
        "colab": {
          "base_uri": "https://localhost:8080/",
          "height": 312
        }
      },
      "outputs": [
        {
          "output_type": "execute_result",
          "data": {
            "text/plain": [
              "Text(0.5, 1.0, 'Lorem ipsum de matplotlib')"
            ]
          },
          "metadata": {},
          "execution_count": 106
        },
        {
          "output_type": "display_data",
          "data": {
            "text/plain": [
              "<Figure size 432x288 with 1 Axes>"
            ],
            "image/png": "[encoded data removed]"
          },
          "metadata": {
            "needs_background": "light"
          }
        }
      ],
      "source": [
        "# Cria um grafico onde x representa os valores do eixo das abscisas\n",
        "# e y representa os valores do eixo das ordenadas\n",
        "# plt.plot() recebe o vetor com as abscisas, as ordenadas e o marcador que representara\n",
        "# a interseccao dos pontos que foram plotados uns contra os outros\n",
        "y = [1, 7, 3, 5, 12]\n",
        "x = [1, 2, 3, 4, 5]\n",
        "plt.plot(x, y, marker='o')\n",
        "plt.xlabel('x axis')\n",
        "plt.ylabel('y axis')\n",
        "plt.title('Lorem ipsum de matplotlib')"
      ]
    },
    {
      "cell_type": "code",
      "execution_count": 90,
      "metadata": {
        "id": "iax9fd1e7YoV",
        "outputId": "10412a8f-5765-461f-8779-300ed8bcd0f0",
        "colab": {
          "base_uri": "https://localhost:8080/",
          "height": 265
        }
      },
      "outputs": [
        {
          "output_type": "display_data",
          "data": {
            "text/plain": [
              "<Figure size 432x288 with 1 Axes>"
            ],
            "image/png": "[encoded data removed]"
          },
          "metadata": {
            "needs_background": "light"
          }
        }
      ],
      "source": [
        "# plt.grid() adiciona um grid ao grafico que foi plotado pelo plt.plot(x, y, marker='o')\n",
        "plt.plot(x, y, marker='o')\n",
        "plt.grid()"
      ]
    },
    {
      "cell_type": "code",
      "execution_count": 105,
      "metadata": {
        "id": "K5ENtcft7YoW",
        "outputId": "fc4e72b8-59f0-4328-e1c4-ffa131db69ba",
        "colab": {
          "base_uri": "https://localhost:8080/",
          "height": 265
        }
      },
      "outputs": [
        {
          "output_type": "display_data",
          "data": {
            "text/plain": [
              "<Figure size 432x288 with 1 Axes>"
            ],
            "image/png": "[encoded data removed]"
          },
          "metadata": {
            "needs_background": "light"
          }
        }
      ],
      "source": [
        "# A funcao plt.scatter plota em um plano cartesiano somente os pontos aos quais \n",
        "# sao passados a ele sem fazer a conexao entre cada um deles\n",
        "plt.scatter(x, y, marker='x');"
      ]
    },
    {
      "cell_type": "code",
      "execution_count": 93,
      "metadata": {
        "id": "iHuYERdX7YoW",
        "outputId": "c5635141-9deb-45cb-cd2c-a9d83657713d",
        "colab": {
          "base_uri": "https://localhost:8080/",
          "height": 265
        }
      },
      "outputs": [
        {
          "output_type": "display_data",
          "data": {
            "text/plain": [
              "<Figure size 432x288 with 1 Axes>"
            ],
            "image/png": "[encoded data removed]"
          },
          "metadata": {
            "needs_background": "light"
          }
        }
      ],
      "source": [
        "# plt.bar faz a construcao de um grafico em barras com x sendo o valor descritor \n",
        "# de cada barra e y sendo a quantidade a qual aquela barra deve ser representada\n",
        " \n",
        "plt.bar(x, y);"
      ]
    },
    {
      "cell_type": "markdown",
      "metadata": {
        "id": "mDJsuP7v7YoW"
      },
      "source": [
        "**Gerando gráfico em formato PDF**"
      ]
    },
    {
      "cell_type": "code",
      "execution_count": 109,
      "metadata": {
        "id": "OXUBholt7YoW",
        "outputId": "b6512339-f0b9-445f-d98c-ca61dc2585dd",
        "colab": {
          "base_uri": "https://localhost:8080/",
          "height": 34
        }
      },
      "outputs": [
        {
          "output_type": "display_data",
          "data": {
            "text/plain": [
              "<Figure size 432x288 with 1 Axes>"
            ],
            "application/pdf": "[encoded data removed]"
          },
          "metadata": {
            "needs_background": "light"
          }
        }
      ],
      "source": [
        "# Essa configuração define qual vai ser o formato da imagem que será exibida nos \n",
        "# notebooks ao qual as funções do matplotlib serão usadas\n",
        "%config InlineBackend.figure_format = 'pdf'\n",
        "plt.bar(x, y);"
      ]
    },
    {
      "cell_type": "markdown",
      "metadata": {
        "id": "hTEGSXKu7YoW"
      },
      "source": [
        "**Gerando gráfico em formato PNG**"
      ]
    },
    {
      "cell_type": "code",
      "execution_count": 111,
      "metadata": {
        "id": "gie2PVW27YoX",
        "outputId": "ff55e0e1-2b41-47ce-a63a-95113a6aa32e",
        "colab": {
          "base_uri": "https://localhost:8080/",
          "height": 265
        }
      },
      "outputs": [
        {
          "output_type": "display_data",
          "data": {
            "text/plain": [
              "<Figure size 432x288 with 1 Axes>"
            ],
            "image/png": "[encoded data removed]"
          },
          "metadata": {
            "needs_background": "light"
          }
        }
      ],
      "source": [
        "# Essa configuração define qual vai ser o formato da imagem que será exibida nos \n",
        "# notebooks ao qual as funções do matplotlib serão usadafig InlineBackend.figure_format = 'png'\n",
        "%config InlineBackend.figure_format = 'png'\n",
        "plt.bar(x, y);"
      ]
    },
    {
      "cell_type": "code",
      "execution_count": 112,
      "metadata": {
        "id": "8BVXhwkH7YoX",
        "outputId": "e79d6b0e-57f8-419d-d84c-a9bcddba5502",
        "colab": {
          "base_uri": "https://localhost:8080/",
          "height": 295
        }
      },
      "outputs": [
        {
          "output_type": "display_data",
          "data": {
            "text/plain": [
              "<Figure size 432x288 with 1 Axes>"
            ],
            "image/png": "[encoded data removed]"
          },
          "metadata": {
            "needs_background": "light"
          }
        }
      ],
      "source": [
        "# array nativo python criado com anos\n",
        "anos = [1950, 1960, 1970, 1980, 1990, 2000, 2010]\n",
        "# array nativo python criado com pib em bilhoes de reais\n",
        "pib = [300.2, 543.3, 1075.9, 2862.5, 5979.6, 10289.7, 14958.3]\n",
        "# funcao que faz o plot do grafico, com anos nas abscisas e pib nas ordenadas\n",
        "# com a opcao de marcador 'o' para indicar os pontos que foram plotados diretamente\n",
        "plt.plot(anos, pib, marker='o')\n",
        "# titulo do grafico\n",
        "plt.title('PIB')\n",
        "# titulo do eixo das abscisas\n",
        "plt.xlabel('Ano')\n",
        "# titulo do eixo das ordenadas\n",
        "plt.ylabel(u'Bilhões de R$')\n",
        "# opcao de adicionar o grid na plotagem do grafico\n",
        "plt.grid()"
      ]
    },
    {
      "cell_type": "markdown",
      "metadata": {
        "id": "Y-lc91ko7YoX"
      },
      "source": [
        "**Qual versão do `matplotlib` estamos usando?**"
      ]
    },
    {
      "cell_type": "code",
      "execution_count": 114,
      "metadata": {
        "id": "kq1hV5d37YoX",
        "outputId": "9220d56a-dbe0-44a1-84f7-0a97c6ddf731",
        "colab": {
          "base_uri": "https://localhost:8080/",
          "height": 35
        }
      },
      "outputs": [
        {
          "output_type": "execute_result",
          "data": {
            "text/plain": [
              "'3.7.1'"
            ],
            "application/vnd.google.colaboratory.intrinsic+json": {
              "type": "string"
            }
          },
          "metadata": {},
          "execution_count": 114
        }
      ],
      "source": [
        "# importacao da biblioteca matplotlib\n",
        "import matplotlib\n",
        "# checagem da versao que esta sendo usada da biblioteca\n",
        "matplotlib.__version__"
      ]
    },
    {
      "cell_type": "markdown",
      "metadata": {
        "id": "gmgjYI2u7YoX"
      },
      "source": [
        "**Quais estilos temos disponíveis no Matplotlib?**"
      ]
    },
    {
      "cell_type": "code",
      "execution_count": 128,
      "metadata": {
        "id": "99wBFY7q7YoX",
        "outputId": "51b015d4-6826-4048-da5a-35b830939e20",
        "colab": {
          "base_uri": "https://localhost:8080/"
        }
      },
      "outputs": [
        {
          "output_type": "stream",
          "name": "stdout",
          "text": [
            "['Solarize_Light2', '_classic_test_patch', '_mpl-gallery', '_mpl-gallery-nogrid', 'bmh', 'classic', 'dark_background', 'fast', 'fivethirtyeight', 'ggplot', 'grayscale', 'seaborn-v0_8', 'seaborn-v0_8-bright', 'seaborn-v0_8-colorblind', 'seaborn-v0_8-dark', 'seaborn-v0_8-dark-palette', 'seaborn-v0_8-darkgrid', 'seaborn-v0_8-deep', 'seaborn-v0_8-muted', 'seaborn-v0_8-notebook', 'seaborn-v0_8-paper', 'seaborn-v0_8-pastel', 'seaborn-v0_8-poster', 'seaborn-v0_8-talk', 'seaborn-v0_8-ticks', 'seaborn-v0_8-white', 'seaborn-v0_8-whitegrid', 'tableau-colorblind10']\n"
          ]
        }
      ],
      "source": [
        "# printa os estilos disponiveis para os graficos que podem ser plotados com a \n",
        "# biblioteca matplotlib\n",
        "print(plt.style.available)"
      ]
    },
    {
      "cell_type": "markdown",
      "metadata": {
        "id": "EeDlzlv77YoX"
      },
      "source": [
        "**Como resetar os estilos e voltar ao estilo padrão?**"
      ]
    },
    {
      "cell_type": "code",
      "execution_count": 119,
      "metadata": {
        "id": "aYI0Y3k97YoY"
      },
      "outputs": [],
      "source": [
        "# reseta o estilo padrao da plotagem dos graficos da biblioteca matplotlib\n",
        "plt.rcdefaults()"
      ]
    },
    {
      "cell_type": "code",
      "execution_count": 121,
      "metadata": {
        "id": "tO3rlFdb7YoY"
      },
      "outputs": [],
      "source": [
        "# troca o estilo da plotagem dos graficos usados pelo matplotlib\n",
        "plt.style.use('classic')"
      ]
    },
    {
      "cell_type": "code",
      "execution_count": 123,
      "metadata": {
        "id": "dwiSZR0r7YoY",
        "outputId": "f7c9406a-0df7-4ddc-aae2-3ba3a17554f7",
        "colab": {
          "base_uri": "https://localhost:8080/",
          "height": 440
        }
      },
      "outputs": [
        {
          "output_type": "display_data",
          "data": {
            "text/plain": [
              "<Figure size 640x480 with 1 Axes>"
            ],
            "image/png": "[encoded data removed]"
          },
          "metadata": {}
        }
      ],
      "source": [
        "# a partir da troca do estilo do grafico que sera plotado, abaixo sera \n",
        "# exibido o mesmo grafico que nas celulas anteriores, em circustancias\n",
        "# dos dados, mas o estilo de exibicao sera de acordo com o estilo classico\n",
        "# que foi definido na celula de codigo anterior\n",
        "plt.plot(x, y, marker='o')\n",
        "plt.grid()"
      ]
    },
    {
      "cell_type": "code",
      "execution_count": 140,
      "metadata": {
        "id": "v34b-oja7YoY"
      },
      "outputs": [],
      "source": [
        "# restaura o estilo para o padrao\n",
        "plt.rcdefaults()\n",
        "# seta o novo estilo para padrao -> dark_background\n",
        "plt.style.use('dark_background')"
      ]
    },
    {
      "cell_type": "code",
      "execution_count": 141,
      "metadata": {
        "id": "5SAS16_i7YoY",
        "outputId": "f9b74bc9-0ce1-4433-c74f-85c0c957af22",
        "colab": {
          "base_uri": "https://localhost:8080/",
          "height": 430
        }
      },
      "outputs": [
        {
          "output_type": "display_data",
          "data": {
            "text/plain": [
              "<Figure size 640x480 with 1 Axes>"
            ],
            "image/png": "[encoded data removed]"
          },
          "metadata": {}
        }
      ],
      "source": [
        "plt.plot(x, y, marker='o')\n",
        "plt.grid()"
      ]
    },
    {
      "cell_type": "markdown",
      "metadata": {
        "id": "LV-qAt397YoY"
      },
      "source": [
        "## Pandas\n",
        "Fornece estruturas de dados e funcionalidades para manipular e analisar dados de forma eficiente.\n",
        "\n",
        "Principais estruturas de dados:\n",
        "- Series - array unidimensional cujas linhas e colunas podem receber rótulos (labels).\n",
        "- DataFrame - array multidimensional cujas linhas e colunas podem receber rótulos (labels)."
      ]
    },
    {
      "cell_type": "code",
      "execution_count": 142,
      "metadata": {
        "id": "_wUIfj8b7YoY"
      },
      "outputs": [],
      "source": [
        "%matplotlib inline\n",
        "import numpy as np\n",
        "import pandas as pd"
      ]
    },
    {
      "cell_type": "markdown",
      "metadata": {
        "id": "KhQ-QG_e7YoZ"
      },
      "source": [
        "### Series"
      ]
    },
    {
      "cell_type": "code",
      "execution_count": null,
      "metadata": {
        "id": "qkuTbggH7YoZ",
        "outputId": "8e3e92f9-d62e-4b50-d50b-34e4f4cacd19"
      },
      "outputs": [
        {
          "name": "stdout",
          "output_type": "stream",
          "text": [
            "0    2\n",
            "1    7\n",
            "2    5\n",
            "3    1\n",
            "4    4\n",
            "dtype: int64\n"
          ]
        }
      ],
      "source": [
        "s1 = pd.Series([2, 7, 5, 1, 4])\n",
        "print(s1)"
      ]
    },
    {
      "cell_type": "code",
      "execution_count": null,
      "metadata": {
        "id": "qXvgPUBp7YoZ",
        "outputId": "5a70906c-e61d-4bd3-aa97-edfa66a816da"
      },
      "outputs": [
        {
          "name": "stdout",
          "output_type": "stream",
          "text": [
            "a    2\n",
            "b    7\n",
            "c    5\n",
            "d    1\n",
            "e    4\n",
            "dtype: int64\n"
          ]
        }
      ],
      "source": [
        "lista = [2, 7, 5, 1, 4]\n",
        "rotulos = ['a', 'b', 'c', 'd', 'e']\n",
        "s2 = pd.Series(lista, index=rotulos)\n",
        "print(s2)"
      ]
    },
    {
      "cell_type": "code",
      "execution_count": null,
      "metadata": {
        "id": "KAXUrGQQ7YoZ",
        "outputId": "8a1b2d80-5f25-41bd-836e-1943293fb6a4"
      },
      "outputs": [
        {
          "name": "stdout",
          "output_type": "stream",
          "text": [
            "5\n",
            "5\n"
          ]
        }
      ],
      "source": [
        "print(s1[2])\n",
        "print(s2['c'])"
      ]
    },
    {
      "cell_type": "code",
      "execution_count": null,
      "metadata": {
        "id": "0U2OWTvT7YoZ",
        "outputId": "1e3811f7-8061-4a61-d9f0-aa4417bcc3ff"
      },
      "outputs": [
        {
          "data": {
            "image/png": "[encoded data removed]",
            "text/plain": [
              "<Figure size 432x288 with 1 Axes>"
            ]
          },
          "metadata": {
            "needs_background": "light"
          },
          "output_type": "display_data"
        }
      ],
      "source": [
        "s1.plot(marker='o', grid=True);"
      ]
    },
    {
      "cell_type": "markdown",
      "metadata": {
        "id": "VSAv2SBk7YoZ"
      },
      "source": [
        "### DataFrames"
      ]
    },
    {
      "cell_type": "code",
      "execution_count": null,
      "metadata": {
        "id": "vo5RRXgZ7YoZ",
        "outputId": "e0f5f990-eefd-4ed6-f257-39eb184f56c6"
      },
      "outputs": [
        {
          "data": {
            "text/html": [
              "<div>\n",
              "<style scoped>\n",
              "    .dataframe tbody tr th:only-of-type {\n",
              "        vertical-align: middle;\n",
              "    }\n",
              "\n",
              "    .dataframe tbody tr th {\n",
              "        vertical-align: top;\n",
              "    }\n",
              "\n",
              "    .dataframe thead th {\n",
              "        text-align: right;\n",
              "    }\n",
              "</style>\n",
              "<table border=\"1\" class=\"dataframe\">\n",
              "  <thead>\n",
              "    <tr style=\"text-align: right;\">\n",
              "      <th></th>\n",
              "      <th>C1</th>\n",
              "      <th>C2</th>\n",
              "      <th>C3</th>\n",
              "    </tr>\n",
              "  </thead>\n",
              "  <tbody>\n",
              "    <tr>\n",
              "      <th>L1</th>\n",
              "      <td>1</td>\n",
              "      <td>2</td>\n",
              "      <td>3</td>\n",
              "    </tr>\n",
              "    <tr>\n",
              "      <th>L2</th>\n",
              "      <td>4</td>\n",
              "      <td>5</td>\n",
              "      <td>6</td>\n",
              "    </tr>\n",
              "  </tbody>\n",
              "</table>\n",
              "</div>"
            ],
            "text/plain": [
              "    C1  C2  C3\n",
              "L1   1   2   3\n",
              "L2   4   5   6"
            ]
          },
          "execution_count": 47,
          "metadata": {},
          "output_type": "execute_result"
        }
      ],
      "source": [
        "matriz = np.array([[1, 2, 3], [4, 5, 6]])\n",
        "nomes_linhas = ['L1', 'L2']\n",
        "nomes_cols = ['C1', 'C2', 'C3']\n",
        "\n",
        "df = pd.DataFrame(matriz, index=nomes_linhas, columns=nomes_cols)\n",
        "df"
      ]
    },
    {
      "cell_type": "code",
      "execution_count": null,
      "metadata": {
        "id": "TdA_lHBc7Yoa",
        "outputId": "60b08b8b-febd-4acd-b224-bc40aa7a3ee1"
      },
      "outputs": [
        {
          "name": "stdout",
          "output_type": "stream",
          "text": [
            "    C1  C2  C3\n",
            "L1   1   2   3\n",
            "L2   4   5   6\n"
          ]
        }
      ],
      "source": [
        "print(df)"
      ]
    },
    {
      "cell_type": "code",
      "execution_count": null,
      "metadata": {
        "id": "KRrWOp857Yoa",
        "outputId": "6687ee97-4369-42a3-c8a1-e14b8f42bb31"
      },
      "outputs": [
        {
          "name": "stdout",
          "output_type": "stream",
          "text": [
            "\\begin{tabular}{lrrr}\n",
            "\\toprule\n",
            "{} &  C1 &  C2 &  C3 \\\\\n",
            "\\midrule\n",
            "L1 &   1 &   2 &   3 \\\\\n",
            "L2 &   4 &   5 &   6 \\\\\n",
            "\\bottomrule\n",
            "\\end{tabular}\n",
            "\n"
          ]
        }
      ],
      "source": [
        "print(df.to_latex())"
      ]
    },
    {
      "cell_type": "code",
      "execution_count": null,
      "metadata": {
        "id": "80z1b5G-7Yoa",
        "outputId": "cc1c4ed3-2f6c-40ae-ed99-44862d4c6693"
      },
      "outputs": [
        {
          "data": {
            "text/html": [
              "<div>\n",
              "<style scoped>\n",
              "    .dataframe tbody tr th:only-of-type {\n",
              "        vertical-align: middle;\n",
              "    }\n",
              "\n",
              "    .dataframe tbody tr th {\n",
              "        vertical-align: top;\n",
              "    }\n",
              "\n",
              "    .dataframe thead th {\n",
              "        text-align: right;\n",
              "    }\n",
              "</style>\n",
              "<table border=\"1\" class=\"dataframe\">\n",
              "  <thead>\n",
              "    <tr style=\"text-align: right;\">\n",
              "      <th></th>\n",
              "      <th>C1</th>\n",
              "      <th>C2</th>\n",
              "      <th>C3</th>\n",
              "      <th>C4</th>\n",
              "    </tr>\n",
              "  </thead>\n",
              "  <tbody>\n",
              "    <tr>\n",
              "      <th>L1</th>\n",
              "      <td>1</td>\n",
              "      <td>2</td>\n",
              "      <td>3</td>\n",
              "      <td>4</td>\n",
              "    </tr>\n",
              "    <tr>\n",
              "      <th>L2</th>\n",
              "      <td>4</td>\n",
              "      <td>5</td>\n",
              "      <td>6</td>\n",
              "      <td>7</td>\n",
              "    </tr>\n",
              "  </tbody>\n",
              "</table>\n",
              "</div>"
            ],
            "text/plain": [
              "    C1  C2  C3  C4\n",
              "L1   1   2   3   4\n",
              "L2   4   5   6   7"
            ]
          },
          "execution_count": 50,
          "metadata": {},
          "output_type": "execute_result"
        }
      ],
      "source": [
        "df['C4'] = [4, 7]\n",
        "df"
      ]
    },
    {
      "cell_type": "code",
      "execution_count": null,
      "metadata": {
        "id": "Hbh5lH_o7Yoa",
        "outputId": "592ba70a-abe7-4025-dfef-b784d5f5a2f8"
      },
      "outputs": [
        {
          "data": {
            "image/png": "[encoded data removed]",
            "text/plain": [
              "<Figure size 432x288 with 1 Axes>"
            ]
          },
          "metadata": {
            "needs_background": "light"
          },
          "output_type": "display_data"
        }
      ],
      "source": [
        "df.plot(kind='bar', grid=True, title='Título');"
      ]
    },
    {
      "cell_type": "code",
      "execution_count": null,
      "metadata": {
        "id": "Ps6bc-CX7Yoa",
        "outputId": "46e5eb87-7fd8-415f-ffee-a0cacb51ae71"
      },
      "outputs": [
        {
          "data": {
            "text/html": [
              "<div>\n",
              "<style scoped>\n",
              "    .dataframe tbody tr th:only-of-type {\n",
              "        vertical-align: middle;\n",
              "    }\n",
              "\n",
              "    .dataframe tbody tr th {\n",
              "        vertical-align: top;\n",
              "    }\n",
              "\n",
              "    .dataframe thead th {\n",
              "        text-align: right;\n",
              "    }\n",
              "</style>\n",
              "<table border=\"1\" class=\"dataframe\">\n",
              "  <thead>\n",
              "    <tr style=\"text-align: right;\">\n",
              "      <th></th>\n",
              "      <th>L1</th>\n",
              "      <th>L2</th>\n",
              "    </tr>\n",
              "  </thead>\n",
              "  <tbody>\n",
              "    <tr>\n",
              "      <th>C1</th>\n",
              "      <td>1</td>\n",
              "      <td>4</td>\n",
              "    </tr>\n",
              "    <tr>\n",
              "      <th>C2</th>\n",
              "      <td>2</td>\n",
              "      <td>5</td>\n",
              "    </tr>\n",
              "    <tr>\n",
              "      <th>C3</th>\n",
              "      <td>3</td>\n",
              "      <td>6</td>\n",
              "    </tr>\n",
              "    <tr>\n",
              "      <th>C4</th>\n",
              "      <td>4</td>\n",
              "      <td>7</td>\n",
              "    </tr>\n",
              "  </tbody>\n",
              "</table>\n",
              "</div>"
            ],
            "text/plain": [
              "    L1  L2\n",
              "C1   1   4\n",
              "C2   2   5\n",
              "C3   3   6\n",
              "C4   4   7"
            ]
          },
          "execution_count": 52,
          "metadata": {},
          "output_type": "execute_result"
        }
      ],
      "source": [
        "df2 = df.transpose()\n",
        "df2"
      ]
    },
    {
      "cell_type": "code",
      "execution_count": null,
      "metadata": {
        "id": "r_CusPv07Yoa",
        "outputId": "8654e4c4-3742-4a78-9200-3cce43310702"
      },
      "outputs": [
        {
          "data": {
            "image/png": "[encoded data removed]",
            "text/plain": [
              "<Figure size 432x288 with 1 Axes>"
            ]
          },
          "metadata": {
            "needs_background": "light"
          },
          "output_type": "display_data"
        }
      ],
      "source": [
        "df2.plot(kind='bar', grid=True);"
      ]
    },
    {
      "cell_type": "code",
      "execution_count": null,
      "metadata": {
        "id": "rusJo5PN7Yoa",
        "outputId": "55bedb8a-817a-444b-ab4c-e30902d0b008"
      },
      "outputs": [
        {
          "data": {
            "text/html": [
              "<div>\n",
              "<style scoped>\n",
              "    .dataframe tbody tr th:only-of-type {\n",
              "        vertical-align: middle;\n",
              "    }\n",
              "\n",
              "    .dataframe tbody tr th {\n",
              "        vertical-align: top;\n",
              "    }\n",
              "\n",
              "    .dataframe thead th {\n",
              "        text-align: right;\n",
              "    }\n",
              "</style>\n",
              "<table border=\"1\" class=\"dataframe\">\n",
              "  <thead>\n",
              "    <tr style=\"text-align: right;\">\n",
              "      <th></th>\n",
              "      <th>C1</th>\n",
              "      <th>C2</th>\n",
              "      <th>C3</th>\n",
              "      <th>C4</th>\n",
              "    </tr>\n",
              "  </thead>\n",
              "  <tbody>\n",
              "    <tr>\n",
              "      <th>L2</th>\n",
              "      <td>4</td>\n",
              "      <td>5</td>\n",
              "      <td>6</td>\n",
              "      <td>7</td>\n",
              "    </tr>\n",
              "    <tr>\n",
              "      <th>L1</th>\n",
              "      <td>1</td>\n",
              "      <td>2</td>\n",
              "      <td>3</td>\n",
              "      <td>4</td>\n",
              "    </tr>\n",
              "  </tbody>\n",
              "</table>\n",
              "</div>"
            ],
            "text/plain": [
              "    C1  C2  C3  C4\n",
              "L2   4   5   6   7\n",
              "L1   1   2   3   4"
            ]
          },
          "execution_count": 54,
          "metadata": {},
          "output_type": "execute_result"
        }
      ],
      "source": [
        "df.sort_values(by='C4', ascending=False)"
      ]
    },
    {
      "cell_type": "code",
      "execution_count": null,
      "metadata": {
        "id": "sm71yY-r7Yob",
        "outputId": "3cdc266c-84da-48be-cc0d-bca8d129bccb"
      },
      "outputs": [
        {
          "data": {
            "text/html": [
              "<div>\n",
              "<style scoped>\n",
              "    .dataframe tbody tr th:only-of-type {\n",
              "        vertical-align: middle;\n",
              "    }\n",
              "\n",
              "    .dataframe tbody tr th {\n",
              "        vertical-align: top;\n",
              "    }\n",
              "\n",
              "    .dataframe thead th {\n",
              "        text-align: right;\n",
              "    }\n",
              "</style>\n",
              "<table border=\"1\" class=\"dataframe\">\n",
              "  <thead>\n",
              "    <tr style=\"text-align: right;\">\n",
              "      <th></th>\n",
              "      <th>C1</th>\n",
              "      <th>C2</th>\n",
              "      <th>C3</th>\n",
              "      <th>C4</th>\n",
              "    </tr>\n",
              "  </thead>\n",
              "  <tbody>\n",
              "    <tr>\n",
              "      <th>L1</th>\n",
              "      <td>1</td>\n",
              "      <td>2</td>\n",
              "      <td>3</td>\n",
              "      <td>4</td>\n",
              "    </tr>\n",
              "    <tr>\n",
              "      <th>L2</th>\n",
              "      <td>4</td>\n",
              "      <td>5</td>\n",
              "      <td>6</td>\n",
              "      <td>7</td>\n",
              "    </tr>\n",
              "  </tbody>\n",
              "</table>\n",
              "</div>"
            ],
            "text/plain": [
              "    C1  C2  C3  C4\n",
              "L1   1   2   3   4\n",
              "L2   4   5   6   7"
            ]
          },
          "execution_count": 55,
          "metadata": {},
          "output_type": "execute_result"
        }
      ],
      "source": [
        "df"
      ]
    }
  ],
  "metadata": {
    "kernelspec": {
      "display_name": "Python 3",
      "language": "python",
      "name": "python3"
    },
    "language_info": {
      "codemirror_mode": {
        "name": "ipython",
        "version": 3
      },
      "file_extension": ".py",
      "mimetype": "text/x-python",
      "name": "python",
      "nbconvert_exporter": "python",
      "pygments_lexer": "ipython3",
      "version": "3.6.8"
    },
    "colab": {
      "provenance": []
    }
  },
  "nbformat": 4,
  "nbformat_minor": 0
}